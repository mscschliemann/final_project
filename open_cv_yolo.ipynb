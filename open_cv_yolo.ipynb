{
 "metadata": {
  "language_info": {
   "codemirror_mode": {
    "name": "ipython",
    "version": 3
   },
   "file_extension": ".py",
   "mimetype": "text/x-python",
   "name": "python",
   "nbconvert_exporter": "python",
   "pygments_lexer": "ipython3",
   "version": "3.6.8-final"
  },
  "orig_nbformat": 2,
  "kernelspec": {
   "name": "python36864bitb5348120429e4cf488869d859ef23e62",
   "display_name": "Python 3.6.8 64-bit"
  }
 },
 "nbformat": 4,
 "nbformat_minor": 2,
 "cells": [
  {
   "cell_type": "code",
   "execution_count": 52,
   "metadata": {},
   "outputs": [
    {
     "output_type": "stream",
     "name": "stdout",
     "text": [
      "4.1.1\n"
     ]
    }
   ],
   "source": [
    "import cv2 as cv\n",
    "print(cv.__version__)"
   ]
  },
  {
   "cell_type": "code",
   "execution_count": 6,
   "metadata": {},
   "outputs": [],
   "source": [
    "net = cv.dnn.readNetFromDarknet('yolov3.cfg', 'yolov3.weights')\n",
    "net.setPreferableBackend(cv.dnn.DNN_BACKEND_OPENCV)"
   ]
  },
  {
   "cell_type": "code",
   "execution_count": 10,
   "metadata": {},
   "outputs": [
    {
     "output_type": "stream",
     "name": "stdout",
     "text": [
      "254\n"
     ]
    }
   ],
   "source": [
    "import pprint\n",
    "ln = net.getLayerNames()\n",
    "print(len(ln))\n",
    "#pprint.pprint(ln)"
   ]
  },
  {
   "source": [
    "- the image to transform\n",
    "- the scale factor (1/255 to scale the pixel values to [0..1])\n",
    "- the size, here a 416x416 square image\n",
    "- the mean value (default=0)\n",
    "- the option swapBR=True (since OpenCV uses BGR)"
   ],
   "cell_type": "markdown",
   "metadata": {}
  },
  {
   "cell_type": "code",
   "execution_count": 30,
   "metadata": {},
   "outputs": [],
   "source": [
    "import cv2 as cv\n",
    "import numpy as np\n",
    "import time\n",
    "from matplotlib import pyplot as plt\n",
    "\n",
    "img = cv.imread('horse.jpg')\n",
    "cv.imshow('window',  img) \n",
    "cv.waitKey(0)\n",
    "cv.destroyAllWindows()\n"
   ]
  },
  {
   "cell_type": "code",
   "execution_count": 29,
   "metadata": {},
   "outputs": [],
   "source": [
    "blob = cv.dnn.blobFromImage(img, 1/255.0, (416, 416), swapRB=True, crop=False)\n",
    "r = blob[0, 0, :, :] \n",
    "\n",
    "cv.imshow('blob', r)\n",
    "text = f'Blob shape={blob.shape}'\n",
    "#cv.displayOverlay('blob', te xt)\n",
    "cv.waitKey(0)\n",
    "cv.destroyAllWindows()"
   ]
  },
  {
   "cell_type": "code",
   "execution_count": 14,
   "metadata": {},
   "outputs": [
    {
     "output_type": "stream",
     "name": "stdout",
     "text": [
      "2.3397767543792725\n"
     ]
    }
   ],
   "source": [
    "net.setInput(blob)\n",
    "t0 = time.time()\n",
    "outputs = net.forward(ln)\n",
    "t = time.time()\n",
    "print(t-t0)\n",
    "\n",
    "#cv.displayOverlay('window', f'forward propagation time={t-t0}')\n",
    "cv.imshow('window',  img)\n",
    "cv.waitKey(0)\n",
    "cv.destroyAllWindows()"
   ]
  },
  {
   "cell_type": "code",
   "execution_count": 47,
   "metadata": {
    "tags": []
   },
   "outputs": [
    {
     "output_type": "stream",
     "name": "stdout",
     "text": [
      "(1, 32, 416, 416)\n(1, 32, 416, 416)\n(1, 32, 416, 416)\n(1, 64, 208, 208)\n(1, 64, 208, 208)\n(1, 64, 208, 208)\n(1, 32, 208, 208)\n(1, 32, 208, 208)\n(1, 32, 208, 208)\n(1, 64, 208, 208)\n(1, 64, 208, 208)\n(1, 64, 208, 208)\n(1, 64, 208, 208)\n(1, 128, 104, 104)\n(1, 128, 104, 104)\n(1, 128, 104, 104)\n(1, 64, 104, 104)\n(1, 64, 104, 104)\n(1, 64, 104, 104)\n(1, 128, 104, 104)\n(1, 128, 104, 104)\n(1, 128, 104, 104)\n(1, 128, 104, 104)\n(1, 64, 104, 104)\n(1, 64, 104, 104)\n(1, 64, 104, 104)\n(1, 128, 104, 104)\n(1, 128, 104, 104)\n(1, 128, 104, 104)\n(1, 128, 104, 104)\n(1, 256, 52, 52)\n(1, 256, 52, 52)\n(1, 256, 52, 52)\n(1, 128, 52, 52)\n(1, 128, 52, 52)\n(1, 128, 52, 52)\n(1, 256, 52, 52)\n(1, 256, 52, 52)\n(1, 256, 52, 52)\n(1, 256, 52, 52)\n(1, 128, 52, 52)\n(1, 128, 52, 52)\n(1, 128, 52, 52)\n(1, 256, 52, 52)\n(1, 256, 52, 52)\n(1, 256, 52, 52)\n(1, 256, 52, 52)\n(1, 128, 52, 52)\n(1, 128, 52, 52)\n(1, 128, 52, 52)\n(1, 256, 52, 52)\n(1, 256, 52, 52)\n(1, 256, 52, 52)\n(1, 256, 52, 52)\n(1, 128, 52, 52)\n(1, 128, 52, 52)\n(1, 128, 52, 52)\n(1, 256, 52, 52)\n(1, 256, 52, 52)\n(1, 256, 52, 52)\n(1, 256, 52, 52)\n(1, 128, 52, 52)\n(1, 128, 52, 52)\n(1, 128, 52, 52)\n(1, 256, 52, 52)\n(1, 256, 52, 52)\n(1, 256, 52, 52)\n(1, 256, 52, 52)\n(1, 128, 52, 52)\n(1, 128, 52, 52)\n(1, 128, 52, 52)\n(1, 256, 52, 52)\n(1, 256, 52, 52)\n(1, 256, 52, 52)\n(1, 256, 52, 52)\n(1, 128, 52, 52)\n(1, 128, 52, 52)\n(1, 128, 52, 52)\n(1, 256, 52, 52)\n(1, 256, 52, 52)\n(1, 256, 52, 52)\n(1, 256, 52, 52)\n(1, 128, 52, 52)\n(1, 128, 52, 52)\n(1, 128, 52, 52)\n(1, 256, 52, 52)\n(1, 256, 52, 52)\n(1, 256, 52, 52)\n(1, 256, 52, 52)\n(1, 512, 26, 26)\n(1, 512, 26, 26)\n(1, 512, 26, 26)\n(1, 256, 26, 26)\n(1, 256, 26, 26)\n(1, 256, 26, 26)\n(1, 512, 26, 26)\n(1, 512, 26, 26)\n(1, 512, 26, 26)\n(1, 512, 26, 26)\n(1, 256, 26, 26)\n(1, 256, 26, 26)\n(1, 256, 26, 26)\n(1, 512, 26, 26)\n(1, 512, 26, 26)\n(1, 512, 26, 26)\n(1, 512, 26, 26)\n(1, 256, 26, 26)\n(1, 256, 26, 26)\n(1, 256, 26, 26)\n(1, 512, 26, 26)\n(1, 512, 26, 26)\n(1, 512, 26, 26)\n(1, 512, 26, 26)\n(1, 256, 26, 26)\n(1, 256, 26, 26)\n(1, 256, 26, 26)\n(1, 512, 26, 26)\n(1, 512, 26, 26)\n(1, 512, 26, 26)\n(1, 512, 26, 26)\n(1, 256, 26, 26)\n(1, 256, 26, 26)\n(1, 256, 26, 26)\n(1, 512, 26, 26)\n(1, 512, 26, 26)\n(1, 512, 26, 26)\n(1, 512, 26, 26)\n(1, 256, 26, 26)\n(1, 256, 26, 26)\n(1, 256, 26, 26)\n(1, 512, 26, 26)\n(1, 512, 26, 26)\n(1, 512, 26, 26)\n(1, 512, 26, 26)\n(1, 256, 26, 26)\n(1, 256, 26, 26)\n(1, 256, 26, 26)\n(1, 512, 26, 26)\n(1, 512, 26, 26)\n(1, 512, 26, 26)\n(1, 512, 26, 26)\n(1, 256, 26, 26)\n(1, 256, 26, 26)\n(1, 256, 26, 26)\n(1, 512, 26, 26)\n(1, 512, 26, 26)\n(1, 512, 26, 26)\n(1, 512, 26, 26)\n(1, 1024, 13, 13)\n(1, 1024, 13, 13)\n(1, 1024, 13, 13)\n(1, 512, 13, 13)\n(1, 512, 13, 13)\n(1, 512, 13, 13)\n(1, 1024, 13, 13)\n(1, 1024, 13, 13)\n(1, 1024, 13, 13)\n(1, 1024, 13, 13)\n(1, 512, 13, 13)\n(1, 512, 13, 13)\n(1, 512, 13, 13)\n(1, 1024, 13, 13)\n(1, 1024, 13, 13)\n(1, 1024, 13, 13)\n(1, 1024, 13, 13)\n(1, 512, 13, 13)\n(1, 512, 13, 13)\n(1, 512, 13, 13)\n(1, 1024, 13, 13)\n(1, 1024, 13, 13)\n(1, 1024, 13, 13)\n(1, 1024, 13, 13)\n(1, 512, 13, 13)\n(1, 512, 13, 13)\n(1, 512, 13, 13)\n(1, 1024, 13, 13)\n(1, 1024, 13, 13)\n(1, 1024, 13, 13)\n(1, 1024, 13, 13)\n(1, 512, 13, 13)\n(1, 512, 13, 13)\n(1, 512, 13, 13)\n(1, 1024, 13, 13)\n(1, 1024, 13, 13)\n(1, 1024, 13, 13)\n(1, 512, 13, 13)\n(1, 512, 13, 13)\n(1, 512, 13, 13)\n(1, 1024, 13, 13)\n(1, 1024, 13, 13)\n(1, 1024, 13, 13)\n(1, 512, 13, 13)\n(1, 512, 13, 13)\n(1, 512, 13, 13)\n(1, 1024, 13, 13)\n(1, 1024, 13, 13)\n(1, 1024, 13, 13)\n(1, 255, 13, 13)\n(1, 13, 13, 255)\n(507, 85)\n(1, 512, 13, 13)\n(1, 256, 13, 13)\n(1, 256, 13, 13)\n(1, 256, 13, 13)\n(1, 256, 26, 26)\n(1, 768, 26, 26)\n(1, 256, 26, 26)\n(1, 256, 26, 26)\n(1, 256, 26, 26)\n(1, 512, 26, 26)\n(1, 512, 26, 26)\n(1, 512, 26, 26)\n(1, 256, 26, 26)\n(1, 256, 26, 26)\n(1, 256, 26, 26)\n(1, 512, 26, 26)\n(1, 512, 26, 26)\n(1, 512, 26, 26)\n(1, 256, 26, 26)\n(1, 256, 26, 26)\n(1, 256, 26, 26)\n(1, 512, 26, 26)\n(1, 512, 26, 26)\n(1, 512, 26, 26)\n(1, 255, 26, 26)\n(1, 26, 26, 255)\n(2028, 85)\n(1, 256, 26, 26)\n(1, 128, 26, 26)\n(1, 128, 26, 26)\n(1, 128, 26, 26)\n(1, 128, 52, 52)\n(1, 384, 52, 52)\n(1, 128, 52, 52)\n(1, 128, 52, 52)\n(1, 128, 52, 52)\n(1, 256, 52, 52)\n(1, 256, 52, 52)\n(1, 256, 52, 52)\n(1, 128, 52, 52)\n(1, 128, 52, 52)\n(1, 128, 52, 52)\n(1, 256, 52, 52)\n(1, 256, 52, 52)\n(1, 256, 52, 52)\n(1, 128, 52, 52)\n(1, 128, 52, 52)\n(1, 128, 52, 52)\n(1, 256, 52, 52)\n(1, 256, 52, 52)\n(1, 256, 52, 52)\n(1, 255, 52, 52)\n(1, 52, 52, 255)\n(8112, 85)\n"
     ]
    }
   ],
   "source": [
    "#print(len(outputs))\n",
    "#print(outputs[0].shape)\n",
    "for out in outputs:\n",
    "    print(out.shape)\n",
    "    pass\n",
    "\n",
    "#pprint.pprint(outputs[0][0][5:].shape)"
   ]
  },
  {
   "cell_type": "code",
   "execution_count": 50,
   "metadata": {},
   "outputs": [],
   "source": [
    "boxes = []\n",
    "confidences = []\n",
    "classIDs = []\n",
    "h, w = img.shape[:2]\n",
    "\n",
    "for output in outputs[:2]:\n",
    "    for detection in output[2:]:\n",
    "        scores = detection[5:]\n",
    "        classID = np.argmax(scores)\n",
    "        confidence = scores[classID]\n",
    "        if confidence > 0.5:\n",
    "            box = detection[:4] * np.array([w, h, w, h])\n",
    "            (centerX, centerY, width, height) = box.astype(\"int\")\n",
    "            x = int(centerX - (width / 2))\n",
    "            y = int(centerY - (height / 2))\n",
    "            box = [x, y, int(width), int(height)]\n",
    "            boxes.append(box)\n",
    "            confidences.append(float(confidence))\n",
    "            classIDs.append(classID)\n",
    "\n",
    "indices = cv.dnn.NMSBoxes(boxes, confidences, 0.5, 0.4)\n",
    "if len(indices) > 0:\n",
    "    for i in indices.flatten():\n",
    "        (x, y) = (boxes[i][0], boxes[i][1])\n",
    "        (w, h) = (boxes[i][2], boxes[i][3])\n",
    "        color = [int(c) for c in colors[classIDs[i]]]\n",
    "        cv.rectangle(img, (x, y), (x + w, y + h), color, 2)\n",
    "        text = \"{}: {:.4f}\".format(classes[classIDs[i]], confidences[i])\n",
    "        cv.putText(img, text, (x, y - 5), cv.FONT_HERSHEY_SIMPLEX, 0.5, color, 1)\n",
    "\n",
    "cv.imshow('window', img)\n",
    "cv.waitKey(0)\n",
    "cv.destroyAllWindows()"
   ]
  },
  {
   "cell_type": "code",
   "execution_count": 1,
   "metadata": {},
   "outputs": [
    {
     "output_type": "stream",
     "name": "stderr",
     "text": [
      "Using TensorFlow backend.\n"
     ]
    }
   ],
   "source": [
    "from keras import backend as K\n"
   ]
  },
  {
   "cell_type": "code",
   "execution_count": 2,
   "metadata": {},
   "outputs": [],
   "source": [
    "sess = K.get_session()"
   ]
  },
  {
   "cell_type": "code",
   "execution_count": 3,
   "metadata": {},
   "outputs": [
    {
     "output_type": "execute_result",
     "data": {
      "text/plain": [
       "<tensorflow.python.client.session.Session at 0x20a3d980ba8>"
      ]
     },
     "metadata": {},
     "execution_count": 3
    }
   ],
   "source": [
    "sess"
   ]
  },
  {
   "cell_type": "code",
   "execution_count": 8,
   "metadata": {},
   "outputs": [
    {
     "output_type": "stream",
     "name": "stderr",
     "text": [
      "2020-10-26 14:04:02,343 - INFO - icrawler.crawler - start crawling...\n",
      "2020-10-26 14:04:02,346 - INFO - icrawler.crawler - starting 1 feeder threads...\n",
      "2020-10-26 14:04:02,356 - INFO - feeder - thread feeder-001 exit\n",
      "2020-10-26 14:04:02,360 - INFO - icrawler.crawler - starting 1 parser threads...\n",
      "2020-10-26 14:04:02,367 - INFO - icrawler.crawler - starting 1 downloader threads...\n",
      "2020-10-26 14:04:02,805 - INFO - parser - parsing result page https://www.bing.com/images/async?q=feet&first=0\n",
      "2020-10-26 14:04:03,392 - INFO - downloader - image #1\thttps://pics.wikifeet.com/Rachel-McAdams-Feet-1719380.jpg\n",
      "2020-10-26 14:04:03,885 - INFO - downloader - image #2\thttps://4.bp.blogspot.com/-mZS42jDV_gc/UBa6_92wx8I/AAAAAAAAANM/iK97le2sILk/s1600/Michelle_Williams_Feet_Heels_3.jpg\n",
      "2020-10-26 14:04:04,401 - INFO - downloader - image #3\thttp://3.bp.blogspot.com/_UaLWp72nij4/TAgMlNm0QnI/AAAAAAAANmY/kkKzePRwbS8/s1600/meagan-good-feet-3.jpg\n",
      "2020-10-26 14:04:04,896 - INFO - downloader - image #4\thttps://i.pinimg.com/736x/54/c1/df/54c1dfd51f27dea40e84c191d8ed10ac--lauren-cohan-sexy-feet.jpg\n",
      "2020-10-26 14:04:04,958 - INFO - downloader - image #5\thttp://4.bp.blogspot.com/_UaLWp72nij4/TBaQlDxbrbI/AAAAAAAAO1Y/dum5wzDoTco/s400/nancy-o-dell-feet-3.jpg\n",
      "2020-10-26 14:04:05,329 - INFO - downloader - image #6\thttps://img-aws.ehowcdn.com/default/cme/cme_public_images/www_ehow_com/photos.demandstudios.com/getty/article/94/49/492630477.jpg\n",
      "2020-10-26 14:04:06,051 - INFO - downloader - image #7\thttps://www.rush.edu/sites/default/files/feet-and-health_0.jpg\n",
      "2020-10-26 14:04:07,391 - INFO - downloader - image #8\thttps://bestofcomicbooks.com/wp-content/uploads/2018/11/scarlett-johansson-toes-nails-pics.jpg\n",
      "2020-10-26 14:04:07,548 - INFO - downloader - image #9\thttps://pics.wikifeet.com/Elizabeth-Banks-Feet-3994408.jpg\n",
      "2020-10-26 14:04:08,685 - INFO - downloader - image #10\thttps://celebsfeetandsoles.com/wp-content/uploads/emmy_rossum_soles_feet102-883x1024.jpg\n",
      "2020-10-26 14:04:08,726 - INFO - downloader - image #11\thttps://pics.wikifeet.com/Danyelle-Wolf-Feet-2914534.jpg\n",
      "2020-10-26 14:04:09,367 - INFO - downloader - image #12\thttps://1.bp.blogspot.com/-v9GF4bB018s/UPGDR5K6l_I/AAAAAAAAAyo/jUOyGNnMerM/s1600/Carrie+Underwood+Feet+02.jpg\n",
      "2020-10-26 14:04:11,087 - INFO - downloader - image #13\thttps://feetfirstclinic.com/wp-content/uploads/Bone-Spur.jpg\n",
      "2020-10-26 14:04:11,581 - INFO - downloader - image #14\thttp://pics.wikifeet.com/Jennifer-Aniston-Feet-1083114.jpg\n",
      "2020-10-26 14:04:11,764 - INFO - downloader - image #15\thttps://images.baklol.com/Kristen-Stewart-s-Legs-And-Feet3755738301481794784.jpg\n",
      "2020-10-26 14:04:12,037 - INFO - downloader - image #16\thttp://4.bp.blogspot.com/_bQ0SqifjNcg/TD1MMJ5IduI/AAAAAAAAYMQ/qU4JLi-PtTM/s1600/rihanna-feet-4.jpg\n",
      "2020-10-26 14:04:12,197 - INFO - downloader - image #17\thttp://1.bp.blogspot.com/--uqYinQhGFQ/UCYN5R0LamI/AAAAAAAAA38/jlSdXxTEq8A/s1600/Jenna-Elfman-Feet-Heels-05.jpg\n",
      "2020-10-26 14:04:12,490 - INFO - downloader - image #18\thttps://www.thehealthsite.com/wp-content/uploads/2013/12/swollen-feet1.jpg\n",
      "2020-10-26 14:04:12,932 - INFO - downloader - image #19\thttps://pics.wikifeet.com/Kyla-Pratt-Feet-3670757.jpg\n",
      "2020-10-26 14:04:13,005 - INFO - downloader - image #20\thttp://3.bp.blogspot.com/_UaLWp72nij4/S_bu2ASi2yI/AAAAAAAAMJ0/On44QDKZy4U/s1600/lisa-edelstein-feet-2.jpg\n",
      "2020-10-26 14:04:13,261 - INFO - downloader - image #21\thttps://i.ytimg.com/vi/f-6k41zirW4/maxresdefault.jpg\n",
      "2020-10-26 14:04:15,099 - INFO - downloader - image #22\thttps://pics.wikifeet.com/Erin-Andrews-Feet-1702985.jpg\n",
      "2020-10-26 14:04:15,249 - INFO - downloader - image #23\thttps://3.bp.blogspot.com/-cvQX2xpkbqg/UBqDBZvt7FI/AAAAAAAAAUM/vuTZIyGbfZA/s1600/Taylor_Swift_Feet_004.jpg\n",
      "2020-10-26 14:04:15,617 - INFO - downloader - image #24\thttp://3.bp.blogspot.com/-ZYYdEJnZbwQ/UB9myddcx1I/AAAAAAAAAWE/RikaHU5lrLA/s1600/Maria_Sharapova_Feet_001.jpg\n",
      "2020-10-26 14:04:15,735 - INFO - downloader - image #25\thttps://i.ytimg.com/vi/q9Rgo5KK2mc/maxresdefault.jpg\n",
      "2020-10-26 14:04:15,916 - INFO - downloader - image #26\thttps://media.allure.com/photos/57718d62a87d31b25a7e1267/master/pass/beauty-trends-blogs-daily-beauty-reporter-fake-pretty-feet.jpg\n",
      "2020-10-26 14:04:15,984 - INFO - downloader - image #27\thttps://3.bp.blogspot.com/-PQeeq_PLARg/UDXvRXgC4oI/AAAAAAAABxc/mZvQUh6tZ-c/s1600/Scarlett-Johansson-Feet-Heels-3.jpg\n",
      "2020-10-26 14:04:16,132 - INFO - downloader - image #28\thttps://3.bp.blogspot.com/-QmYWZPAejAA/UpYvRbDtwRI/AAAAAAAABb8/2Yh7zqJAitk/s1600/Jennifer+Lawrence+Feet+05.jpg\n",
      "2020-10-26 14:04:16,287 - INFO - parser - parsing result page https://www.bing.com/images/async?q=feet&first=20\n",
      "2020-10-26 14:04:17,255 - INFO - downloader - image #29\thttps://www.feetfile.com/wp-content/uploads/2020/04/513918_05big-682x1024.jpg\n",
      "2020-10-26 14:04:18,556 - INFO - downloader - image #30\thttp://blog.almawiclinic.com/wp-content/uploads/2015/07/Flat-feet-can-cause-papules.jpg\n",
      "2020-10-26 14:04:19,982 - INFO - downloader - image #31\thttp://www.featurepics.com/StockImage/20060729/sexy-feet-stock-photo-56666.jpg\n",
      "2020-10-26 14:04:20,177 - INFO - downloader - image #32\thttps://i.pinimg.com/736x/70/63/5e/70635e2cfed9baebd1ae2612f835e679--sandal.jpg\n",
      "2020-10-26 14:04:20,604 - INFO - downloader - image #33\thttps://pics.wikifeet.com/Janel-Parrish-Feet-2784906.jpg\n",
      "2020-10-26 14:04:20,729 - INFO - downloader - image #34\thttp://3.bp.blogspot.com/-w8Bis12I4oc/Th_oA3C_YcI/AAAAAAAAA4k/oCTey6eHxew/s1600/Feet+on+High+heels+%252810%2529.jpg\n",
      "2020-10-26 14:04:21,254 - INFO - downloader - image #35\thttp://2.bp.blogspot.com/-uCWTj4b89o8/Un4iLQ2C3qI/AAAAAAAABYs/lhnSy5fqxoo/s1600/Natalie+Zea+Feet+01.jpg\n",
      "2020-10-26 14:04:21,321 - INFO - downloader - image #36\thttps://3.bp.blogspot.com/_bQ0SqifjNcg/TEaSDYS58JI/AAAAAAAAY3g/65S5K90a0mY/s1600/zoe-saldana-feet-2.jpg\n",
      "2020-10-26 14:04:21,408 - INFO - downloader - image #37\thttps://i.ytimg.com/vi/qrlhShAf890/maxresdefault.jpg\n",
      "2020-10-26 14:04:21,475 - INFO - downloader - image #38\thttps://i.ytimg.com/vi/-wXrJ1Cd7_g/maxresdefault.jpg\n",
      "2020-10-26 14:04:22,782 - INFO - downloader - image #39\thttps://c8.alamy.com/comp/TB6HBB/closeup-shot-of-beautiful-female-feet-and-hands-skin-care-concept-TB6HBB.jpg\n",
      "2020-10-26 14:04:23,365 - INFO - downloader - image #40\thttps://1.bp.blogspot.com/-V0FTsc6fcXQ/UBqDkMBEkeI/AAAAAAAAAUs/mQb70QTzwAo/s1600/Taylor_Swift_Feet_007.jpg\n",
      "2020-10-26 14:04:23,741 - INFO - parser - parsing result page https://www.bing.com/images/async?q=feet&first=40\n",
      "2020-10-26 14:04:26,806 - INFO - downloader - image #41\thttps://pics.wikifeet.com/Dylan-Dreyer-Feet-2537334.jpg\n",
      "2020-10-26 14:04:26,924 - INFO - downloader - image #42\thttp://i.ytimg.com/vi/DtZ9FiC5npE/maxresdefault.jpg\n",
      "2020-10-26 14:04:26,967 - INFO - downloader - image #43\thttps://pics.wikifeet.com/Niall-Horan-Feet-4570786.jpg\n",
      "2020-10-26 14:04:27,473 - INFO - downloader - image #44\thttps://pbs.twimg.com/media/Aki1FbzCEAAKBrI.jpg\n",
      "2020-10-26 14:04:27,726 - INFO - downloader - image #45\thttps://elementalaromas.files.wordpress.com/2017/12/soles-of-feet.jpg\n",
      "2020-10-26 14:04:28,172 - INFO - downloader - image #46\thttp://pics.wikifeet.com/Lily-Allen-Feet-2553666.jpg\n",
      "2020-10-26 14:04:28,223 - INFO - downloader - image #47\thttps://i.ytimg.com/vi/-ELEmPrVRCU/hqdefault.jpg\n",
      "2020-10-26 14:04:29,018 - INFO - downloader - image #48\thttps://4.bp.blogspot.com/_bQ0SqifjNcg/TD1M8Hm8CPI/AAAAAAAAYNA/UzCbaiB2o0U/s1600/leann-rimes-feet-3.jpg\n",
      "2020-10-26 14:04:29,088 - INFO - downloader - image #49\thttps://4.bp.blogspot.com/_UaLWp72nij4/S7GMDi2GcmI/AAAAAAAAFs0/BgOq2Up8zOg/s1600/diane-kruger-feet-3.jpg\n",
      "2020-10-26 14:04:29,459 - INFO - downloader - image #50\thttps://3.bp.blogspot.com/_UaLWp72nij4/S9dPjNw9gdI/AAAAAAAAI1Y/LRfdI-Nqr8o/s1600/jenna-jameson-feet-2.jpg\n",
      "2020-10-26 14:04:29,607 - INFO - downloader - image #51\thttp://i1.ytimg.com/vi/Tpc58ZNNyD0/maxresdefault.jpg\n",
      "2020-10-26 14:04:30,248 - INFO - downloader - image #52\thttp://3.bp.blogspot.com/_bQ0SqifjNcg/TGXjm-QQP3I/AAAAAAAAa1Q/LpjeuJ73xOo/s1600/taylor-swift-feet-3.jpg\n",
      "2020-10-26 14:04:30,342 - INFO - downloader - image #53\thttp://i.ytimg.com/vi/oi5strouifI/maxresdefault.jpg\n",
      "2020-10-26 14:04:31,171 - INFO - downloader - image #54\thttps://feetfirstclinic.com/wp-content/uploads/high-arch-2.jpg\n",
      "2020-10-26 14:04:31,418 - INFO - downloader - image #55\thttps://i.pinimg.com/736x/75/f8/3f/75f83f770b3e03ea05c465f1c40d6eec--sexy-high-heels-ladies-shoes.jpg\n",
      "2020-10-26 14:04:31,451 - INFO - parser - parsing result page https://www.bing.com/images/async?q=feet&first=60\n",
      "2020-10-26 14:04:31,491 - INFO - downloader - image #56\thttps://i.ytimg.com/vi/6vYrhZ1M2Zg/maxresdefault.jpg\n",
      "2020-10-26 14:04:31,852 - INFO - downloader - image #57\thttps://thumbs.dreamstime.com/b/female-feet-legs-over-red-background-70715636.jpg\n",
      "2020-10-26 14:04:32,304 - INFO - downloader - image #58\thttp://pics.wikifeet.com/Gemma-Arterton-Feet-1564827.jpg\n",
      "2020-10-26 14:04:35,215 - INFO - downloader - image #59\thttp://pics.wikifeet.com/Nicki-Minaj-Feet-538094.jpg\n",
      "2020-10-26 14:04:36,838 - INFO - downloader - image #60\thttp://www.painful-feet.com/wp-content/uploads/2013/04/diabetes-foot-pain-symptoms.jpg\n",
      "2020-10-26 14:04:38,494 - INFO - downloader - image #61\thttps://bestofcomicbooks.com/wp-content/uploads/2018/11/Blake-Lively-Sexy-Toes.jpg\n",
      "2020-10-26 14:04:38,939 - INFO - downloader - image #62\thttp://pics.wikifeet.com/Anna-Kournikova-Feet-52426.jpg\n",
      "2020-10-26 14:04:40,445 - INFO - downloader - image #63\thttps://pics.wikifeet.com/Amy-Ryan-Feet-1642712.jpg\n",
      "2020-10-26 14:04:40,625 - INFO - downloader - image #64\thttps://whyy.org/wp-content/uploads/2017/08/feet-768x432.jpg\n",
      "2020-10-26 14:04:40,712 - INFO - downloader - image #65\thttps://i.ytimg.com/vi/7P6YWDJ7faQ/maxresdefault.jpg\n",
      "2020-10-26 14:04:41,485 - INFO - parser - parsing result page https://www.bing.com/images/async?q=feet&first=80\n",
      "2020-10-26 14:04:42,456 - INFO - downloader - image #66\thttps://meekospark.com/wp-content/uploads/2016/04/Emilia-Clarke-Feet-2075389.jpg\n",
      "2020-10-26 14:04:42,977 - INFO - downloader - image #67\thttp://pics.wikifeet.com/Kate-Beckinsale-Feet-997842.jpg\n",
      "2020-10-26 14:04:43,066 - INFO - downloader - image #68\thttp://pics.wikifeet.com/Tori-Amos-Feet-792668.jpg\n",
      "2020-10-26 14:04:43,098 - INFO - downloader - image #69\thttps://thumbs.dreamstime.com/x/feet-wearing-summer-sandals-young-girl-s-standing-old-asphalt-road-woman-legs-32257059.jpg\n",
      "2020-10-26 14:04:43,224 - INFO - downloader - image #70\thttps://cdn.hswstatic.com/gif/feet-sleep-1200x800.jpg\n",
      "2020-10-26 14:04:43,283 - INFO - downloader - image #71\thttps://i.ytimg.com/vi/c10rXR9BLr4/maxresdefault.jpg\n",
      "2020-10-26 14:04:44,028 - INFO - downloader - image #72\thttp://pre09.deviantart.net/407e/th/pre/f/2014/255/9/5/white_feet_red_nails_by_kasumireikamichelle-d7yxmjt.jpg\n",
      "2020-10-26 14:04:44,455 - INFO - downloader - image #73\thttp://pics.wikifeet.com/Blake-Lively-Feet-1663886.jpg\n",
      "2020-10-26 14:04:44,600 - INFO - downloader - image #74\thttps://i.ytimg.com/vi/sV5TFJPeobQ/maxresdefault.jpg\n",
      "2020-10-26 14:04:44,634 - INFO - downloader - image #75\thttp://i1.ytimg.com/vi/3N-8amUG850/hqdefault.jpg\n",
      "2020-10-26 14:04:45,928 - INFO - downloader - image #76\thttps://c8.alamy.com/comp/BJPY6G/womens-feet-in-flip-flops-BJPY6G.jpg\n",
      "2020-10-26 14:04:46,605 - INFO - parser - no more page urls for thread parser-001 to parse\n",
      "2020-10-26 14:04:46,605 - INFO - parser - thread parser-001 exit\n",
      "2020-10-26 14:04:46,889 - INFO - downloader - image #77\thttps://pics.wikifeet.com/Katherine-Bailess-Feet-1864693.jpg\n",
      "2020-10-26 14:04:49,278 - INFO - downloader - image #78\thttp://wusfeetlinks.com/feature/201702/201702_007.jpg\n",
      "2020-10-26 14:04:49,342 - INFO - downloader - image #79\thttp://3.bp.blogspot.com/_UaLWp72nij4/S7w89Bp0fGI/AAAAAAAAGlo/2pscYmq9exk/s1600/emma-stone-feet.jpg\n",
      "2020-10-26 14:04:49,611 - INFO - downloader - image #80\thttp://wusfeetlinks.com/feature/amberlily/20101031/AMB10103108.jpg\n",
      "2020-10-26 14:04:54,614 - INFO - downloader - no more download task for thread downloader-001\n",
      "2020-10-26 14:04:54,615 - INFO - downloader - thread downloader-001 exit\n",
      "2020-10-26 14:04:55,406 - INFO - icrawler.crawler - Crawling task done!\n"
     ]
    }
   ],
   "source": [
    "from icrawler.builtin import BingImageCrawler\n",
    "\n",
    "# //we are building cats image detection that's why we put cat here\n",
    "# //if you want some other images then put that name in classes list\n",
    "classes=['feet'] \n",
    "number=100\n",
    "# //here root directory is find your root directory there u will find \n",
    "# //new file name data in which all images are saved.\n",
    "for c in classes:\n",
    "    bing_crawler=BingImageCrawler(storage={'root_dir':f'p/{c.replace(\" \",\".\")}'})\n",
    "    bing_crawler.crawl(keyword=c,filters=None,max_num=number,offset=0)"
   ]
  },
  {
   "cell_type": "code",
   "execution_count": 9,
   "metadata": {
    "tags": [
     "outputPrepend"
    ]
   },
   "outputs": [
    {
     "output_type": "stream",
     "name": "stderr",
     "text": [
      ".wordpress.com/2011/06/cars2_intl_germany.jpg\n",
      "2020-10-26 14:07:00,444 - INFO - parser - parsing result page https://www.bing.com/images/async?q=cars&first=60\n",
      "2020-10-26 14:07:00,981 - INFO - downloader - image #48\thttps://cdn.zeebiz.com/sites/default/files/2018/11/13/59674-bmw-reuters.jpg\n",
      "2020-10-26 14:07:01,164 - INFO - downloader - image #49\thttps://i.kinja-img.com/gawker-media/image/upload/s--bX3fYAof--/c_fill,fl_progressive,g_center,h_900,q_80,w_1600/18a2a6u523u9jjpg.jpg\n",
      "2020-10-26 14:07:01,296 - INFO - downloader - image #50\thttps://s1.cdn.autoevolution.com/images/news/gallery/famous-modern-cars-look-silly-with-old-school-faces_2.jpg\n",
      "2020-10-26 14:07:01,673 - INFO - downloader - image #51\thttps://www.bglam.com/wp-content/uploads/2017/10/Future-Classic-Cars.jpg\n",
      "2020-10-26 14:07:03,779 - INFO - downloader - image #52\thttps://weneedfun.com/wp-content/uploads/2016/07/Muscle-Cars-7.jpg\n",
      "2020-10-26 14:07:05,566 - INFO - downloader - image #53\thttp://wallpaper.imcphoto.net/vehicle-wallpapers/rally-racing-cars/nissan/nissan-s14-drift-car.jpg\n",
      "2020-10-26 14:07:07,383 - INFO - downloader - image #54\thttps://wallpapershome.com/images/wallpapers/bugatti-divo-1440x2560-2019-cars-supercar-4k-20167.jpg\n",
      "2020-10-26 14:07:09,793 - INFO - downloader - image #55\thttps://wallpapersite.com/images/wallpapers/lightning-mcqueen-3423x1926-cars-3-animation-6738.jpg\n",
      "2020-10-26 14:07:10,773 - INFO - downloader - image #56\thttps://images.launchbox-app.com/33ab5892-286c-441e-8d7d-35a237748f55.jpg\n",
      "2020-10-26 14:07:11,046 - INFO - downloader - image #57\thttps://static1.cbrimages.com/wordpress/wp-content/uploads/preview/prv2313_cov.jpg\n",
      "2020-10-26 14:07:11,337 - INFO - parser - parsing result page https://www.bing.com/images/async?q=cars&first=80\n",
      "2020-10-26 14:07:12,202 - INFO - downloader - image #58\thttp://digitalsynopsis.com/wp-content/uploads/2014/06/supercar-wallpapers-bugatti-2.jpg\n",
      "2020-10-26 14:07:13,333 - INFO - downloader - image #59\thttps://i0.wp.com/www.heyuguys.com/images/2011/01/c2cs_CPpitcrew1_20_TMQ.per16_R_RGB.jpg\n",
      "2020-10-26 14:07:14,079 - INFO - downloader - image #60\thttps://i.ytimg.com/vi/yHzXG_GpVCs/maxresdefault.jpg\n",
      "2020-10-26 14:07:14,312 - INFO - downloader - image #61\thttp://i.ytimg.com/vi/BUQBFp49mXw/maxresdefault.jpg\n",
      "2020-10-26 14:07:20,720 - INFO - downloader - image #62\thttp://collectableclassiccars.com.au/wp-content/uploads/2012/12/IMG_3555.jpg\n",
      "2020-10-26 14:07:22,002 - INFO - downloader - image #63\thttp://wallpaper.imcphoto.net/vehicle-wallpapers/rally-racing-cars/mazda/mazda-racing-wallpaper.jpg\n",
      "2020-10-26 14:07:22,099 - INFO - downloader - image #64\thttp://i.ytimg.com/vi/sywWxq3OZVA/maxresdefault.jpg\n",
      "2020-10-26 14:07:23,296 - INFO - downloader - image #65\thttp://www.car-revs-daily.com/wp-content/uploads/2014/11/SEMA-2014-Showfloor-Photo-Gallery-The-CARS-23.jpg\n",
      "2020-10-26 14:07:23,681 - INFO - downloader - image #66\thttps://whyisarizonaso.files.wordpress.com/2014/05/img01512-20110910-1625.jpg\n",
      "2020-10-26 14:07:24,303 - INFO - downloader - image #67\thttps://pictures.topspeed.com/IMG/crop/201903/best-commuter-cars_1600x0w.jpg\n",
      "2020-10-26 14:07:28,897 - INFO - downloader - image #68\thttps://wallpapersite.com/images/wallpapers/cars-3-1440x2560-jackson-storm-lightning-mcqueen-animation-pixar-7204.jpg\n",
      "2020-10-26 14:07:29,173 - INFO - downloader - image #69\thttp://4.bp.blogspot.com/-6faU0uLfhvU/TmfmorMfMxI/AAAAAAAACAo/4_NDOh0o4bU/s1600/exotic-cars-wallpaper3.jpg\n",
      "2020-10-26 14:07:29,341 - INFO - downloader - image #70\thttps://s3.caradvice.com.au/wp-content/uploads/2009/10/LotusEvora.jpg\n",
      "2020-10-26 14:07:30,543 - INFO - downloader - image #71\thttps://www.pixelstalk.net/wp-content/uploads/2016/06/Cool-cars-pictures-hd.jpg\n",
      "2020-10-26 14:07:30,826 - INFO - downloader - image #72\thttps://i.kinja-img.com/gawker-media/image/upload/s--j86Of0BO--/c_fill,fl_progressive,g_center,h_900,q_80,w_1600/17yvyb1edwm48jpg.jpg\n",
      "2020-10-26 14:07:31,112 - INFO - downloader - image #73\thttps://media.gq.com/photos/560c029c445a175859b88725/16:9/pass/eco-friendly-car-07.jpg\n",
      "2020-10-26 14:07:31,177 - INFO - parser - no more page urls for thread parser-001 to parse\n",
      "2020-10-26 14:07:31,178 - INFO - parser - thread parser-001 exit\n",
      "2020-10-26 14:07:31,254 - INFO - downloader - image #74\thttps://i.ytimg.com/vi/duBHmFtEuiA/maxresdefault.jpg\n",
      "2020-10-26 14:07:31,288 - INFO - downloader - image #75\thttp://i.ytimg.com/vi/IvsD6a04jsU/hqdefault.jpg\n",
      "2020-10-26 14:07:36,293 - INFO - downloader - no more download task for thread downloader-001\n",
      "2020-10-26 14:07:36,296 - INFO - downloader - thread downloader-001 exit\n",
      "2020-10-26 14:07:37,252 - INFO - icrawler.crawler - Crawling task done!\n",
      "2020-10-26 14:07:37,282 - INFO - icrawler.crawler - start crawling...\n",
      "2020-10-26 14:07:37,284 - INFO - icrawler.crawler - starting 1 feeder threads...\n",
      "2020-10-26 14:07:37,295 - INFO - feeder - thread feeder-001 exit\n",
      "2020-10-26 14:07:37,299 - INFO - icrawler.crawler - starting 1 parser threads...\n",
      "2020-10-26 14:07:37,305 - INFO - icrawler.crawler - starting 1 downloader threads...\n",
      "2020-10-26 14:07:37,686 - INFO - parser - parsing result page https://www.bing.com/images/async?q=animals&first=0\n",
      "2020-10-26 14:07:37,931 - INFO - downloader - image #1\thttp://kids.nationalgeographic.com/content/dam/kids/photos/articles/Other%20Explore%20Photos/A-G/125-animals-tiger.ngsversion.1431105584797.adapt.1900.1.jpg\n",
      "2020-10-26 14:07:38,543 - INFO - downloader - image #2\thttp://wallup.net/wp-content/uploads/2016/01/214547-nature-animals-wildlife-lion.jpg\n",
      "2020-10-26 14:07:38,730 - INFO - downloader - image #3\thttps://i.ytimg.com/vi/YSRWkEMNcUs/maxresdefault.jpg\n",
      "2020-10-26 14:07:38,818 - INFO - downloader - image #4\thttp://r.ddmcdn.com/s_f/o_1/w_682/h_1024/APL/uploads/2014/12/wild-animals-mammals.jpg\n",
      "2020-10-26 14:07:40,008 - INFO - downloader - image #5\thttp://www.pixelstalk.net/wp-content/uploads/2016/03/Animals-cubs-Africa-lions-baby-wallpaper-1920x1080.jpg\n",
      "2020-10-26 14:07:40,214 - INFO - downloader - image #6\thttps://cdn.images.express.co.uk/img/dynamic/128/590x/africa-animals-677711.jpg\n",
      "2020-10-26 14:07:40,379 - INFO - downloader - image #7\thttps://mymodernmet.com/wp/wp-content/uploads/2018/01/forest-animals-photography-joachim-munter-30.jpg\n",
      "2020-10-26 14:07:42,083 - INFO - downloader - image #8\thttps://media.npr.org/assets/img/2019/09/16/wildhood_wide-86ce299d635fc579b0f4f710c00ff54b382d37d6.jpg\n",
      "2020-10-26 14:07:42,798 - ERROR - downloader - Response status code 403, file https://www.plantbasednews.org/.image/t_share/MTY1OTMzMDk2MzQyOTIzMjEx/lion-king-animals.jpg\n",
      "2020-10-26 14:07:43,743 - INFO - downloader - image #9\thttps://survivallife.com/wp-content/uploads/2017/01/cougar-puma-mountain-lion-predator-most-dangerous-animals-pb-Featured.jpg\n",
      "2020-10-26 14:07:43,982 - INFO - downloader - image #10\thttps://greenglobaltravel.com/wp-content/uploads/2018/05/Indian-Animals-Asiatic-Lion.jpg\n",
      "2020-10-26 14:07:44,110 - INFO - downloader - image #11\thttps://i.ytimg.com/vi/oQddgBe9Thg/maxresdefault.jpg\n",
      "2020-10-26 14:07:44,393 - INFO - downloader - image #12\thttps://resources.mynewsdesk.com/image/upload/t_open_graph_image/ggv1akxvsdfbwflkhqed.jpg\n",
      "2020-10-26 14:07:44,842 - ERROR - downloader - Exception caught when downloading file https://exoticpetrefuge.org.uk/files/2/50a4a204b9115_n.jpg, error: HTTPSConnectionPool(host='exoticpetrefuge.org.uk', port=443): Max retries exceeded with url: /files/2/50a4a204b9115_n.jpg (Caused by NewConnectionError('<urllib3.connection.VerifiedHTTPSConnection object at 0x0000026B2CA70128>: Failed to establish a new connection: [Errno 11002] getaddrinfo failed',)), remaining retry times: 2\n",
      "2020-10-26 14:07:44,846 - ERROR - downloader - Exception caught when downloading file https://exoticpetrefuge.org.uk/files/2/50a4a204b9115_n.jpg, error: HTTPSConnectionPool(host='exoticpetrefuge.org.uk', port=443): Max retries exceeded with url: /files/2/50a4a204b9115_n.jpg (Caused by NewConnectionError('<urllib3.connection.VerifiedHTTPSConnection object at 0x0000026B2CA63AC8>: Failed to establish a new connection: [Errno 11002] getaddrinfo failed',)), remaining retry times: 1\n",
      "2020-10-26 14:07:44,854 - ERROR - downloader - Exception caught when downloading file https://exoticpetrefuge.org.uk/files/2/50a4a204b9115_n.jpg, error: HTTPSConnectionPool(host='exoticpetrefuge.org.uk', port=443): Max retries exceeded with url: /files/2/50a4a204b9115_n.jpg (Caused by NewConnectionError('<urllib3.connection.VerifiedHTTPSConnection object at 0x0000026B2CA63470>: Failed to establish a new connection: [Errno 11002] getaddrinfo failed',)), remaining retry times: 0\n",
      "2020-10-26 14:07:45,229 - INFO - downloader - image #13\thttp://dreamicus.com/data/animals/animals-04.jpg\n",
      "2020-10-26 14:07:45,408 - INFO - downloader - image #14\thttps://s1.ibtimes.com/sites/www.ibtimes.com/files/styles/full/public/2018/06/01/lion.jpg\n",
      "2020-10-26 14:07:47,066 - INFO - downloader - image #15\thttps://nationalzoo.si.edu/sites/default/files/animals/africanlion-003.jpg\n",
      "2020-10-26 14:07:47,897 - INFO - downloader - image #16\thttps://nationalzoo.si.edu/sites/default/files/animals/cheetah-002.jpg\n",
      "2020-10-26 14:07:48,034 - INFO - downloader - image #17\thttps://cloudfront.safaribookings.com/lib/zambia/1000x625/Kafue_National_Park_039.jpg\n",
      "2020-10-26 14:07:48,396 - INFO - downloader - image #18\thttps://www.rainforest-alliance.org/sites/default/files/2016-08/orangutan_0.jpg\n",
      "2020-10-26 14:07:48,670 - INFO - downloader - image #19\thttps://mymodernmet.com/wp/wp-content/uploads/2019/01/forest-animals-photography-ossi-saarinen-19.jpg\n",
      "2020-10-26 14:07:48,958 - INFO - downloader - image #20\thttps://www.demilked.com/magazine/wp-content/uploads/2015/11/new-hybrid-animals-photoshop-30.jpg\n",
      "2020-10-26 14:07:49,085 - INFO - downloader - image #21\thttps://i.ytimg.com/vi/WAiIX1XeuWs/maxresdefault.jpg\n",
      "2020-10-26 14:07:49,142 - INFO - downloader - image #22\thttps://i.ytimg.com/vi/dAtrYE-RUTU/maxresdefault.jpg\n",
      "2020-10-26 14:07:49,527 - INFO - parser - parsing result page https://www.bing.com/images/async?q=animals&first=20\n",
      "2020-10-26 14:07:50,005 - INFO - downloader - image #23\thttps://www.top13.net/wp-content/uploads/2017/03/rare-animal-babies-1.jpg\n",
      "2020-10-26 14:07:50,118 - INFO - downloader - image #24\thttps://i.ytimg.com/vi/TasSNO3RbCo/maxresdefault.jpg\n",
      "2020-10-26 14:07:50,593 - INFO - downloader - image #25\thttps://www.rd.com/wp-content/uploads/2019/07/Indri-indri-also-called-the-babakoto-is-the-largest-lemurs-of-Madagascar.jpg\n",
      "2020-10-26 14:07:50,907 - INFO - downloader - image #26\thttp://cdn.kickvick.com/wp-content/uploads/2014/11/cute-baby-animals-41.jpg\n",
      "2020-10-26 14:07:51,438 - INFO - downloader - image #27\thttps://wallup.net/wp-content/uploads/2016/01/185765-fox-animals-wildlife.jpg\n",
      "2020-10-26 14:07:52,250 - INFO - downloader - image #28\thttps://cyber-breeze.com/wp-content/uploads/2016/11/featured-image-23.jpg\n",
      "2020-10-26 14:07:52,372 - INFO - downloader - image #29\thttps://i.ytimg.com/vi/9dmiaVHaIN8/maxresdefault.jpg\n",
      "2020-10-26 14:07:52,461 - INFO - downloader - image #30\thttps://i.ytimg.com/vi/z35QDCRBdZY/maxresdefault.jpg\n",
      "2020-10-26 14:07:52,663 - INFO - downloader - image #31\thttps://mymodernmet.com/wp/wp-content/uploads/2018/01/forest-animals-photography-joachim-munter-26.jpg\n",
      "2020-10-26 14:07:52,833 - INFO - downloader - image #32\thttps://images.medicaldaily.com/sites/medicaldaily.com/files/styles/headline/public/2013/08/04/0/66/6690.jpg\n",
      "2020-10-26 14:07:53,012 - INFO - downloader - image #33\thttps://d.ibtimes.co.uk/en/full/434308/new-report-shows-nine-founder-animals-which-all-110-captive-cats-are-descended-are-closely.jpg\n",
      "2020-10-26 14:07:53,340 - INFO - downloader - image #34\thttps://www.groundzeroweb.com/wp-content/uploads/2017/04/Top-10-Most-Endangered-Animals.jpg\n",
      "2020-10-26 14:07:54,270 - INFO - downloader - image #35\thttp://www.shakahariblog.com/wp-content/uploads/2014/06/Zoo-Isolates-Animals.jpg\n",
      "2020-10-26 14:07:54,433 - INFO - downloader - image #36\thttps://sm.mashable.com/t/mashable_sea/photo/default/australia-bushfire-animals_zhx5.1200.jpg\n",
      "2020-10-26 14:07:55,003 - INFO - downloader - image #37\thttps://mymodernmet.com/wp/wp-content/uploads/2019/01/forest-animals-photography-ossi-saarinen-thumbnail.jpg\n",
      "2020-10-26 14:07:55,095 - INFO - downloader - image #38\thttps://i.ytimg.com/vi/3r-Sp4rqToo/maxresdefault.jpg\n",
      "2020-10-26 14:07:55,516 - INFO - downloader - image #39\thttps://answersafrica.com/wp-content/uploads/2013/06/African-Elephant-e1517571312963.jpg\n",
      "2020-10-26 14:07:55,563 - INFO - downloader - image #40\thttps://i.ytimg.com/vi/yfNiIF3NWCM/maxresdefault.jpg\n",
      "2020-10-26 14:07:55,770 - INFO - downloader - image #41\thttps://i.ytimg.com/vi/f2omsoGUYfA/maxresdefault.jpg\n",
      "2020-10-26 14:07:55,911 - INFO - parser - parsing result page https://www.bing.com/images/async?q=animals&first=40\n",
      "2020-10-26 14:07:56,055 - INFO - downloader - image #42\thttp://boredomtherapy.com/wp-content/uploads/2014/05/melanistic-animals-23.jpg\n",
      "2020-10-26 14:07:56,348 - INFO - downloader - image #43\thttps://www.demilked.com/magazine/wp-content/uploads/2015/11/new-hybrid-animals-photoshop-38.jpg\n",
      "2020-10-26 14:07:56,465 - INFO - downloader - image #44\thttps://i.ytimg.com/vi/alufqh2VZkA/maxresdefault.jpg\n",
      "2020-10-26 14:07:56,941 - INFO - downloader - image #45\thttp://a-z-animals.com/media/animals/images/470x370/bear2.jpg\n",
      "2020-10-26 14:07:57,065 - INFO - downloader - image #46\thttps://i.ytimg.com/vi/tbETISHqR8I/maxresdefault.jpg\n",
      "2020-10-26 14:07:58,056 - INFO - downloader - image #47\thttps://www.pixelstalk.net/wp-content/uploads/2016/03/African-animals-wallpaper-HD-free.jpg\n",
      "2020-10-26 14:07:58,431 - INFO - downloader - image #48\thttps://www.pixelstalk.net/wp-content/uploads/2016/03/Running-tiger-wallpaper-animals-images.jpg\n",
      "2020-10-26 14:07:59,627 - INFO - downloader - image #49\thttps://richardaustinimages.files.wordpress.com/2013/07/cooling_down_animals_08.jpg\n",
      "2020-10-26 14:07:59,772 - INFO - downloader - image #50\thttps://i.ytimg.com/vi/_TkVMCJ86os/maxresdefault.jpg\n",
      "2020-10-26 14:08:00,777 - INFO - downloader - image #51\thttps://www.digitalhdphotos.com/wp-content/uploads/2014/02/Photobombs-Animals.jpg\n",
      "2020-10-26 14:08:00,903 - INFO - downloader - image #52\thttps://kids.nationalgeographic.com/content/dam/kids/photos/animals/animalshubba16x9.ngsversion.1481642448559.adapt.1900.1.jpg\n",
      "2020-10-26 14:08:01,162 - INFO - downloader - image #53\thttps://dvirfixler.files.wordpress.com/2014/03/playing-wild-animals-3633195-1600-1200.jpg\n",
      "2020-10-26 14:08:03,499 - INFO - parser - parsing result page https://www.bing.com/images/async?q=animals&first=60\n",
      "2020-10-26 14:08:03,560 - INFO - downloader - image #54\thttps://www.adelaidezoo.com.au/wp-content/uploads/sites/2/2015/12/AfricanLionMujambiChristmas-960x620.jpg\n",
      "2020-10-26 14:08:03,923 - INFO - downloader - image #55\thttps://www.lifegate.com/app/uploads/tigre-circo1.jpg\n",
      "2020-10-26 14:08:04,831 - INFO - downloader - image #56\thttps://www.idausa.org/assets/files/protectanimalscombo-blogresized-1.29.19.jpg\n",
      "2020-10-26 14:08:05,894 - INFO - downloader - image #57\thttps://www.animalspot.net/wp-content/uploads/2017/11/African-Game-Animals.jpg\n",
      "2020-10-26 14:08:06,512 - ERROR - downloader - Response status code 404, file https://upload.wikimedia.org/wikipedia/commons/thumb/d/dc/Elephant_near_ndutu.jpg\n",
      "2020-10-26 14:08:06,974 - INFO - downloader - image #58\thttps://cdn.cnn.com/cnnnext/dam/assets/200419142106-yosemite-national-park-black-bear-file-super-tease.jpg\n",
      "2020-10-26 14:08:08,022 - INFO - downloader - image #59\thttps://animals.net/wp-content/uploads/2018/10/vulture-1451749_1280.jpg\n",
      "2020-10-26 14:08:08,211 - ERROR - downloader - Response status code 403, file https://i2-prod.mirror.co.uk/incoming/article11236051.ece/ALTERNATES/s1227b/PAY-PROD-LAUGHING-ANIMALS1.jpg\n",
      "2020-10-26 14:08:08,659 - INFO - downloader - image #60\thttps://www.animalspot.net/wp-content/uploads/2017/10/Rainforest-Animal-Pictures.jpg\n",
      "2020-10-26 14:08:09,111 - INFO - downloader - image #61\thttps://wallup.net/wp-content/uploads/2016/01/280655-tiger-animals-wildlife-trees.jpg\n",
      "2020-10-26 14:08:09,509 - INFO - downloader - image #62\thttps://wallup.net/wp-content/uploads/2016/01/254500-animals-rhino-savannah-desert-nature.jpg\n",
      "2020-10-26 14:08:10,391 - INFO - downloader - image #63\thttp://justsomething.co/wp-content/uploads/2019/12/russian-artist-creates-tiny-felted-wool-animals-and-these-are-her-cutest-creations-18.jpg\n",
      "2020-10-26 14:08:10,663 - INFO - downloader - image #64\thttps://i.ytimg.com/vi/2DMOXp5sqiQ/maxresdefault.jpg\n",
      "2020-10-26 14:08:11,519 - INFO - downloader - image #65\thttps://amazinganimalphotos.com/wp-content/uploads/2014/11/yawning-panda-cute-animals-yawning-photos.jpg\n",
      "2020-10-26 14:08:11,646 - INFO - downloader - image #66\thttps://cdn.now.howstuffworks.com/media-content/5840bb7d-61c9-4be5-af91-d741adca62e9-1210-680.jpg\n",
      "2020-10-26 14:08:11,774 - INFO - downloader - image #67\thttps://i.ytimg.com/vi/FWDqiV3A0wo/maxresdefault.jpg\n",
      "2020-10-26 14:08:11,986 - INFO - downloader - image #68\thttps://upload.wikimedia.org/wikipedia/commons/0/00/Backing_sheep_at_sheepdog_competition.jpg\n",
      "2020-10-26 14:08:12,011 - INFO - parser - parsing result page https://www.bing.com/images/async?q=animals&first=80\n",
      "2020-10-26 14:08:12,267 - INFO - downloader - image #69\thttp://images.boredomfiles.com/wp-content/uploads/2014/05/bald-animals-2.jpg\n",
      "2020-10-26 14:08:12,419 - INFO - downloader - image #70\thttps://i.ytimg.com/vi/n0QwTOxt3wI/maxresdefault.jpg\n",
      "2020-10-26 14:08:12,495 - INFO - downloader - image #71\thttps://i.ytimg.com/vi/WOq7n3nDqWI/maxresdefault.jpg\n",
      "2020-10-26 14:08:12,613 - INFO - downloader - image #72\thttps://i.ytimg.com/vi/D7iaXVgk1xk/maxresdefault.jpg\n",
      "2020-10-26 14:08:12,981 - INFO - downloader - image #73\thttp://wallup.net/wp-content/uploads/2016/01/28984-animals-eyes-tiger.jpg\n",
      "2020-10-26 14:08:13,221 - INFO - downloader - image #74\thttps://www.animals-zone.com/wp-content/uploads/2012/09/Mean-look-Cheetah.jpg\n",
      "2020-10-26 14:08:13,957 - INFO - downloader - image #75\thttps://www.wrs.com.sg/content/dam/wrs/singapore-zoo/animals/signpost/1x1/giraffe-1X1.jpg\n",
      "2020-10-26 14:08:14,472 - INFO - downloader - image #76\thttp://justsomething.co/wp-content/uploads/2014/05/animals-hangover.jpg\n",
      "2020-10-26 14:08:14,543 - INFO - downloader - image #77\thttps://i.ytimg.com/vi/psAh7ftcgLM/maxresdefault.jpg\n",
      "2020-10-26 14:08:15,019 - INFO - downloader - image #78\thttps://www.zsl.org/sites/default/files/image/2014-02/elephant-2.jpg\n",
      "2020-10-26 14:08:16,010 - INFO - downloader - image #79\thttp://www.animalfactsencyclopedia.com/images/australiananimalsjoey.jpg\n",
      "2020-10-26 14:08:16,065 - INFO - downloader - image #80\thttps://i.ytimg.com/vi/SeeI8ZqTa_A/maxresdefault.jpg\n",
      "2020-10-26 14:08:16,335 - INFO - downloader - image #81\thttps://ctnbq.org/wp-content/uploads/2014/08/animals-smile_3379238k.jpg\n",
      "2020-10-26 14:08:16,895 - INFO - downloader - image #82\thttp://wallup.net/wp-content/uploads/2016/01/279555-nature-plants-animals-battle-iguana-Costa_Rica-jungles-photography-rainforest-leaves.jpg\n",
      "2020-10-26 14:08:17,131 - INFO - downloader - image #83\thttps://cdn.lolwot.com/wp-content/uploads/2015/11/10-amazingly-beautiful-photoshop-animals-we-wish-existed-7.jpg\n",
      "2020-10-26 14:08:18,350 - INFO - parser - no more page urls for thread parser-001 to parse\n",
      "2020-10-26 14:08:18,354 - INFO - parser - thread parser-001 exit\n",
      "2020-10-26 14:08:18,376 - INFO - downloader - image #84\thttps://www.animalstodayradio.com/wp-content/uploads/2018/07/caracal-veterinary-inspection-1-1024x760.jpg\n",
      "2020-10-26 14:08:18,697 - ERROR - downloader - Response status code 410, file https://natgeo.imgix.net/factsheets/thumbnails/01_endangered_species_act.adapt.1900.1-cover.jpg\n",
      "2020-10-26 14:08:18,919 - INFO - downloader - image #85\thttps://cdn.acidcow.com/pics/20150610/animals_posing_14.jpg\n",
      "2020-10-26 14:08:20,011 - INFO - downloader - image #86\thttps://www.murchisonfallsparkuganda.com/wp-content/uploads/2019/05/Animals.jpg\n",
      "2020-10-26 14:08:25,014 - INFO - downloader - no more download task for thread downloader-001\n",
      "2020-10-26 14:08:25,015 - INFO - downloader - thread downloader-001 exit\n",
      "2020-10-26 14:08:25,401 - INFO - icrawler.crawler - Crawling task done!\n"
     ]
    }
   ],
   "source": [
    "from icrawler.builtin import BingImageCrawler         \n",
    "classes=['buildings', 'cars', 'animals']\n",
    "number=100\n",
    "for c in classes:\n",
    "    bing_crawler=BingImageCrawler(storage={'root_dir':f'n/{c.replace(\" \",\".\")}'}) \n",
    "    bing_crawler.crawl(keyword=c,filters=None,max_num=number,offset=0)    "
   ]
  },
  {
   "cell_type": "code",
   "execution_count": 24,
   "metadata": {},
   "outputs": [],
   "source": [
    "import os\n",
    "folder = \"n/trees/\"\n",
    "dir_list = list = os.listdir(folder)\n",
    "for file in dir_list:\n",
    "    os.rename(folder+file, folder+\"f\"+file)"
   ]
  },
  {
   "cell_type": "code",
   "execution_count": 27,
   "metadata": {},
   "outputs": [
    {
     "output_type": "stream",
     "name": "stderr",
     "text": [
      "Der Befehl \"wget\" ist entweder falsch geschrieben oder\nkonnte nicht gefunden werden.\n"
     ]
    }
   ],
   "source": [
    "!wget --recursive --no-clobber --page-requisites --html-extension --convert-links --domains pythonanywhere.com --no-parent --http-user=spiced --http-password=titanic99 http://krspiced.pythonanywhere.com`"
   ]
  },
  {
   "cell_type": "code",
   "execution_count": 32,
   "metadata": {},
   "outputs": [
    {
     "output_type": "error",
     "ename": "ModuleNotFoundError",
     "evalue": "No module named 'wget'",
     "traceback": [
      "\u001b[1;31m---------------------------------------------------------------------------\u001b[0m",
      "\u001b[1;31mModuleNotFoundError\u001b[0m                       Traceback (most recent call last)",
      "\u001b[1;32m<ipython-input-32-381d77ba2736>\u001b[0m in \u001b[0;36m<module>\u001b[1;34m\u001b[0m\n\u001b[1;32m----> 1\u001b[1;33m \u001b[1;32mimport\u001b[0m \u001b[0mwget\u001b[0m\u001b[1;33m\u001b[0m\u001b[1;33m\u001b[0m\u001b[0m\n\u001b[0m",
      "\u001b[1;31mModuleNotFoundError\u001b[0m: No module named 'wget'"
     ]
    }
   ],
   "source": [
    "import wget"
   ]
  },
  {
   "cell_type": "code",
   "execution_count": 2,
   "metadata": {},
   "outputs": [],
   "source": [
    "import cv2\n",
    "config = \"models/cross-hands-tiny-prn.cfg\"\n",
    "model = \"models/cross-hands-tiny-prn.weights\"\n",
    "net = cv2.dnn.readNetFromDarknet(config, model)\n",
    "print(net)"
   ]
  },
  {
   "cell_type": "code",
   "execution_count": null,
   "metadata": {},
   "outputs": [],
   "source": []
  }
 ]
}